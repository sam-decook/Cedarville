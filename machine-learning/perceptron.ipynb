{
  "nbformat": 4,
  "nbformat_minor": 0,
  "metadata": {
    "colab": {
      "provenance": []
    },
    "kernelspec": {
      "name": "python3",
      "display_name": "Python 3"
    },
    "language_info": {
      "name": "python"
    }
  },
  "cells": [
    {
      "cell_type": "markdown",
      "source": [
        "This notebook implements a basic perceptron in using Python and popular libraries. It implements the boolean function A AND !B.\n",
        "\n",
        "![perceptron.png](data:image/png;base64,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)\n",
        "\n",
        "The input will be visualized on a 2D plot, so the variables A and B take on the form of coordinates (A, B). Once the model is trained, we can visualize how it linearly separates the data by plotting it on a 2D graph.\n",
        "\n",
        "To decide which logical operation to implement, change the values in the X column to match the output of your desired boolean function. For A AND !B, this is the truth table:\n",
        "\n",
        "\\begin{array}{l|c|r}\n",
        "    A & B & X \\\\\n",
        "    \\hline\n",
        "    1 & 1 & 0 \\\\\n",
        "    1 & 0 & 1 \\\\\n",
        "    0 & 1 & 0 \\\\\n",
        "    0 & 0 & 0\n",
        "\\end{array}"
      ],
      "metadata": {
        "id": "IgrCLIjJ588S"
      }
    },
    {
      "cell_type": "code",
      "source": [
        "import pandas\n",
        "from random import random\n",
        "\n",
        "truthtable = pandas.DataFrame({'A':[0,0,1,1],\n",
        "                               'B':[0,1,0,1],\n",
        "                               'X':[0,0,1,0]})"
      ],
      "metadata": {
        "id": "S7o9A5JapmQy"
      },
      "execution_count": null,
      "outputs": []
    },
    {
      "cell_type": "markdown",
      "source": [
        "We start of with random weights and decide to train for 50 iterations (since this is a simple scenario). The learning rate, $ η $ (pronounced eta), it set to 0.1.\n",
        "\n",
        "For each training cycle, we will update the weights to bring them closer to values that will correctly separate the data using this equation:\n",
        "$$\n",
        "w_{i} = w_{i} + \\eta(t-o)x_{i}\n",
        "$$\n",
        "where\n",
        "\n",
        "* $ w_{i} $ is the current weight\n",
        "* $ \\eta $ is the learning rate\n",
        "* $ t $ is the target output (given by $ X_{i} $)\n",
        "* $ o $ is the perceptron output (given by $ (A_{i} * w_{0} + B_{i} * w_{1}) > \\frac{1}{2} $)\n",
        "\n",
        "Finally, we keep track of the average error ($ t - o $) of each iteration so we can visualize how our perceptron learns once we're done."
      ],
      "metadata": {
        "id": "9qwiN_cFphF1"
      }
    },
    {
      "cell_type": "code",
      "execution_count": null,
      "metadata": {
        "id": "ugeTMhg4_IZT"
      },
      "outputs": [],
      "source": [
        "#@title Training\n",
        "w = [0.25, -0.75]   # starting weights\n",
        "iters = 50          # training iterations\n",
        "eta = 0.1           # learning rate\n",
        "error = []          # list of errors for a graph of how it learns\n",
        "\n",
        "for x in range(iters):\n",
        "    sum = 0\n",
        "    for i in range(4):\n",
        "        d = truthtable.X[i] - (truthtable.A[i] * w[0] + truthtable.B[i] * w[1]) > 0.5\n",
        "        sum += d\n",
        "\n",
        "        w[0] += eta * (d) * truthtable.A[i]         # update weight 1\n",
        "        w[1] += eta * (d) * truthtable.B[i]         # update weight 2\n",
        "        \n",
        "    error.append(sum/4)     # save the average error"
      ]
    },
    {
      "cell_type": "markdown",
      "source": [
        "Now, we will generate 100 numbers from 0 to 1 twice and turn that into a grid. Then we will run those numbers through our perceptron, store it in the distances list, and plot it. "
      ],
      "metadata": {
        "id": "9Rkz3bw1Cidq"
      }
    },
    {
      "cell_type": "code",
      "source": [
        "#@title Heatmap\n",
        "from itertools import product\n",
        "import matplotlib.pyplot as plt\n",
        "import numpy\n",
        "\n",
        "x = numpy.linspace(0,1,100) # generate 100 values between 0 and 1\n",
        "y = numpy.linspace(0,1,100)\n",
        "grid = list(product(x,y))   # generates coordinates over a 2D grid\n",
        "\n",
        "distances = list()\n",
        "for val in grid:\n",
        "    distances.append((w[0]*val[0] + w[1]*val[1]) > 0.5)   \n",
        "\n",
        "distMatrix = numpy.reshape(distances, (100,100)) # reshapes from list to 2D grid\n",
        "heatmap = plt.pcolormesh(x, y, distMatrix)\n",
        "plt.colorbar(heatmap)\n",
        "plt.xlabel(\"x (A)\")\n",
        "plt.ylabel(\"y (B)\")\n",
        "plt.show"
      ],
      "metadata": {
        "id": "1fKCI024CkND",
        "colab": {
          "base_uri": "https://localhost:8080/",
          "height": 300
        },
        "outputId": "65e45d31-d688-4fd9-dd0d-fbd28c6441cb"
      },
      "execution_count": null,
      "outputs": [
        {
          "output_type": "execute_result",
          "data": {
            "text/plain": [
              "<function matplotlib.pyplot.show(*args, **kw)>"
            ]
          },
          "metadata": {},
          "execution_count": 9
        },
        {
          "output_type": "display_data",
          "data": {
            "text/plain": [
              "<Figure size 432x288 with 2 Axes>"
            ],
            "image/png": "[encoded data removed]"
          },
          "metadata": {
            "needs_background": "light"
          }
        }
      ]
    },
    {
      "cell_type": "markdown",
      "source": [
        "The second plot shows how our preceptron learned over the iterations. Since this is a simple distribution, it doesn't take make iterations to find weights that correctly separate the distribution."
      ],
      "metadata": {
        "id": "EsEoLaIdHsYD"
      }
    },
    {
      "cell_type": "code",
      "source": [
        "x = range(0, iters)\n",
        "plt.plot(x, error)\n",
        "plt.xlabel(\"Iterations\")\n",
        "plt.ylabel(\"Error\")\n",
        "plt.minorticks_on()\n",
        "plt.show()"
      ],
      "metadata": {
        "colab": {
          "base_uri": "https://localhost:8080/",
          "height": 279
        },
        "id": "E0mqVz5PDX0n",
        "outputId": "f61780c5-5148-4527-c548-0f990d7a1547"
      },
      "execution_count": null,
      "outputs": [
        {
          "output_type": "display_data",
          "data": {
            "text/plain": [
              "<Figure size 432x288 with 1 Axes>"
            ],
            "image/png": "[encoded data removed]"
          },
          "metadata": {
            "needs_background": "light"
          }
        }
      ]
    }
  ]
}