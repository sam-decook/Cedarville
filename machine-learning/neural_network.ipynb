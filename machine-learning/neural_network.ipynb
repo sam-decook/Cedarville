{
  "nbformat": 4,
  "nbformat_minor": 0,
  "metadata": {
    "colab": {
      "provenance": []
    },
    "kernelspec": {
      "name": "python3",
      "display_name": "Python 3"
    },
    "language_info": {
      "name": "python"
    },
    "widgets": {
      "application/vnd.jupyter.widget-state+json": {
        "85f1162887a9438dabee4162c373e707": {
          "model_module": "@jupyter-widgets/controls",
          "model_name": "HBoxModel",
          "model_module_version": "1.5.0",
          "state": {
            "_dom_classes": [],
            "_model_module": "@jupyter-widgets/controls",
            "_model_module_version": "1.5.0",
            "_model_name": "HBoxModel",
            "_view_count": null,
            "_view_module": "@jupyter-widgets/controls",
            "_view_module_version": "1.5.0",
            "_view_name": "HBoxView",
            "box_style": "",
            "children": [
              "IPY_MODEL_4621ca2213454690ad82a163d47c8cb7",
              "IPY_MODEL_b7b335474f9041a998ba2fb4d087dc23",
              "IPY_MODEL_9317a3cf393b4006b74607fb9540716f"
            ],
            "layout": "IPY_MODEL_86c909d8102a44e7aaa4b012f783db0f"
          }
        },
        "4621ca2213454690ad82a163d47c8cb7": {
          "model_module": "@jupyter-widgets/controls",
          "model_name": "HTMLModel",
          "model_module_version": "1.5.0",
          "state": {
            "_dom_classes": [],
            "_model_module": "@jupyter-widgets/controls",
            "_model_module_version": "1.5.0",
            "_model_name": "HTMLModel",
            "_view_count": null,
            "_view_module": "@jupyter-widgets/controls",
            "_view_module_version": "1.5.0",
            "_view_name": "HTMLView",
            "description": "",
            "description_tooltip": null,
            "layout": "IPY_MODEL_5647f8b596374229baa370b83e60d04a",
            "placeholder": "​",
            "style": "IPY_MODEL_78ee8565ecc542a6aab50caee4fd2c8d",
            "value": "100%"
          }
        },
        "b7b335474f9041a998ba2fb4d087dc23": {
          "model_module": "@jupyter-widgets/controls",
          "model_name": "FloatProgressModel",
          "model_module_version": "1.5.0",
          "state": {
            "_dom_classes": [],
            "_model_module": "@jupyter-widgets/controls",
            "_model_module_version": "1.5.0",
            "_model_name": "FloatProgressModel",
            "_view_count": null,
            "_view_module": "@jupyter-widgets/controls",
            "_view_module_version": "1.5.0",
            "_view_name": "ProgressView",
            "bar_style": "success",
            "description": "",
            "description_tooltip": null,
            "layout": "IPY_MODEL_af0e16b886e441839d37e2dd50161082",
            "max": 9912422,
            "min": 0,
            "orientation": "horizontal",
            "style": "IPY_MODEL_8d09173aa94f46619fb7cc98120e4c6b",
            "value": 9912422
          }
        },
        "9317a3cf393b4006b74607fb9540716f": {
          "model_module": "@jupyter-widgets/controls",
          "model_name": "HTMLModel",
          "model_module_version": "1.5.0",
          "state": {
            "_dom_classes": [],
            "_model_module": "@jupyter-widgets/controls",
            "_model_module_version": "1.5.0",
            "_model_name": "HTMLModel",
            "_view_count": null,
            "_view_module": "@jupyter-widgets/controls",
            "_view_module_version": "1.5.0",
            "_view_name": "HTMLView",
            "description": "",
            "description_tooltip": null,
            "layout": "IPY_MODEL_1109bf08b24e40db91f8b6b92bb079da",
            "placeholder": "​",
            "style": "IPY_MODEL_790ef7b20af94b6a89c72f40af6c3786",
            "value": " 9912422/9912422 [00:00&lt;00:00, 58302075.06it/s]"
          }
        },
        "86c909d8102a44e7aaa4b012f783db0f": {
          "model_module": "@jupyter-widgets/base",
          "model_name": "LayoutModel",
          "model_module_version": "1.2.0",
          "state": {
            "_model_module": "@jupyter-widgets/base",
            "_model_module_version": "1.2.0",
            "_model_name": "LayoutModel",
            "_view_count": null,
            "_view_module": "@jupyter-widgets/base",
            "_view_module_version": "1.2.0",
            "_view_name": "LayoutView",
            "align_content": null,
            "align_items": null,
            "align_self": null,
            "border": null,
            "bottom": null,
            "display": null,
            "flex": null,
            "flex_flow": null,
            "grid_area": null,
            "grid_auto_columns": null,
            "grid_auto_flow": null,
            "grid_auto_rows": null,
            "grid_column": null,
            "grid_gap": null,
            "grid_row": null,
            "grid_template_areas": null,
            "grid_template_columns": null,
            "grid_template_rows": null,
            "height": null,
            "justify_content": null,
            "justify_items": null,
            "left": null,
            "margin": null,
            "max_height": null,
            "max_width": null,
            "min_height": null,
            "min_width": null,
            "object_fit": null,
            "object_position": null,
            "order": null,
            "overflow": null,
            "overflow_x": null,
            "overflow_y": null,
            "padding": null,
            "right": null,
            "top": null,
            "visibility": null,
            "width": null
          }
        },
        "5647f8b596374229baa370b83e60d04a": {
          "model_module": "@jupyter-widgets/base",
          "model_name": "LayoutModel",
          "model_module_version": "1.2.0",
          "state": {
            "_model_module": "@jupyter-widgets/base",
            "_model_module_version": "1.2.0",
            "_model_name": "LayoutModel",
            "_view_count": null,
            "_view_module": "@jupyter-widgets/base",
            "_view_module_version": "1.2.0",
            "_view_name": "LayoutView",
            "align_content": null,
            "align_items": null,
            "align_self": null,
            "border": null,
            "bottom": null,
            "display": null,
            "flex": null,
            "flex_flow": null,
            "grid_area": null,
            "grid_auto_columns": null,
            "grid_auto_flow": null,
            "grid_auto_rows": null,
            "grid_column": null,
            "grid_gap": null,
            "grid_row": null,
            "grid_template_areas": null,
            "grid_template_columns": null,
            "grid_template_rows": null,
            "height": null,
            "justify_content": null,
            "justify_items": null,
            "left": null,
            "margin": null,
            "max_height": null,
            "max_width": null,
            "min_height": null,
            "min_width": null,
            "object_fit": null,
            "object_position": null,
            "order": null,
            "overflow": null,
            "overflow_x": null,
            "overflow_y": null,
            "padding": null,
            "right": null,
            "top": null,
            "visibility": null,
            "width": null
          }
        },
        "78ee8565ecc542a6aab50caee4fd2c8d": {
          "model_module": "@jupyter-widgets/controls",
          "model_name": "DescriptionStyleModel",
          "model_module_version": "1.5.0",
          "state": {
            "_model_module": "@jupyter-widgets/controls",
            "_model_module_version": "1.5.0",
            "_model_name": "DescriptionStyleModel",
            "_view_count": null,
            "_view_module": "@jupyter-widgets/base",
            "_view_module_version": "1.2.0",
            "_view_name": "StyleView",
            "description_width": ""
          }
        },
        "af0e16b886e441839d37e2dd50161082": {
          "model_module": "@jupyter-widgets/base",
          "model_name": "LayoutModel",
          "model_module_version": "1.2.0",
          "state": {
            "_model_module": "@jupyter-widgets/base",
            "_model_module_version": "1.2.0",
            "_model_name": "LayoutModel",
            "_view_count": null,
            "_view_module": "@jupyter-widgets/base",
            "_view_module_version": "1.2.0",
            "_view_name": "LayoutView",
            "align_content": null,
            "align_items": null,
            "align_self": null,
            "border": null,
            "bottom": null,
            "display": null,
            "flex": null,
            "flex_flow": null,
            "grid_area": null,
            "grid_auto_columns": null,
            "grid_auto_flow": null,
            "grid_auto_rows": null,
            "grid_column": null,
            "grid_gap": null,
            "grid_row": null,
            "grid_template_areas": null,
            "grid_template_columns": null,
            "grid_template_rows": null,
            "height": null,
            "justify_content": null,
            "justify_items": null,
            "left": null,
            "margin": null,
            "max_height": null,
            "max_width": null,
            "min_height": null,
            "min_width": null,
            "object_fit": null,
            "object_position": null,
            "order": null,
            "overflow": null,
            "overflow_x": null,
            "overflow_y": null,
            "padding": null,
            "right": null,
            "top": null,
            "visibility": null,
            "width": null
          }
        },
        "8d09173aa94f46619fb7cc98120e4c6b": {
          "model_module": "@jupyter-widgets/controls",
          "model_name": "ProgressStyleModel",
          "model_module_version": "1.5.0",
          "state": {
            "_model_module": "@jupyter-widgets/controls",
            "_model_module_version": "1.5.0",
            "_model_name": "ProgressStyleModel",
            "_view_count": null,
            "_view_module": "@jupyter-widgets/base",
            "_view_module_version": "1.2.0",
            "_view_name": "StyleView",
            "bar_color": null,
            "description_width": ""
          }
        },
        "1109bf08b24e40db91f8b6b92bb079da": {
          "model_module": "@jupyter-widgets/base",
          "model_name": "LayoutModel",
          "model_module_version": "1.2.0",
          "state": {
            "_model_module": "@jupyter-widgets/base",
            "_model_module_version": "1.2.0",
            "_model_name": "LayoutModel",
            "_view_count": null,
            "_view_module": "@jupyter-widgets/base",
            "_view_module_version": "1.2.0",
            "_view_name": "LayoutView",
            "align_content": null,
            "align_items": null,
            "align_self": null,
            "border": null,
            "bottom": null,
            "display": null,
            "flex": null,
            "flex_flow": null,
            "grid_area": null,
            "grid_auto_columns": null,
            "grid_auto_flow": null,
            "grid_auto_rows": null,
            "grid_column": null,
            "grid_gap": null,
            "grid_row": null,
            "grid_template_areas": null,
            "grid_template_columns": null,
            "grid_template_rows": null,
            "height": null,
            "justify_content": null,
            "justify_items": null,
            "left": null,
            "margin": null,
            "max_height": null,
            "max_width": null,
            "min_height": null,
            "min_width": null,
            "object_fit": null,
            "object_position": null,
            "order": null,
            "overflow": null,
            "overflow_x": null,
            "overflow_y": null,
            "padding": null,
            "right": null,
            "top": null,
            "visibility": null,
            "width": null
          }
        },
        "790ef7b20af94b6a89c72f40af6c3786": {
          "model_module": "@jupyter-widgets/controls",
          "model_name": "DescriptionStyleModel",
          "model_module_version": "1.5.0",
          "state": {
            "_model_module": "@jupyter-widgets/controls",
            "_model_module_version": "1.5.0",
            "_model_name": "DescriptionStyleModel",
            "_view_count": null,
            "_view_module": "@jupyter-widgets/base",
            "_view_module_version": "1.2.0",
            "_view_name": "StyleView",
            "description_width": ""
          }
        },
        "387db0c91d7c4d748c36abdd90c98335": {
          "model_module": "@jupyter-widgets/controls",
          "model_name": "HBoxModel",
          "model_module_version": "1.5.0",
          "state": {
            "_dom_classes": [],
            "_model_module": "@jupyter-widgets/controls",
            "_model_module_version": "1.5.0",
            "_model_name": "HBoxModel",
            "_view_count": null,
            "_view_module": "@jupyter-widgets/controls",
            "_view_module_version": "1.5.0",
            "_view_name": "HBoxView",
            "box_style": "",
            "children": [
              "IPY_MODEL_91d422a9b7124b00859eed870c091712",
              "IPY_MODEL_576b1e0c4eeb4cd7bc3df2bf15d64aaf",
              "IPY_MODEL_245c9043342942e88c5699d43532218b"
            ],
            "layout": "IPY_MODEL_ef7e19b35eac4382ab6ee078701ef83e"
          }
        },
        "91d422a9b7124b00859eed870c091712": {
          "model_module": "@jupyter-widgets/controls",
          "model_name": "HTMLModel",
          "model_module_version": "1.5.0",
          "state": {
            "_dom_classes": [],
            "_model_module": "@jupyter-widgets/controls",
            "_model_module_version": "1.5.0",
            "_model_name": "HTMLModel",
            "_view_count": null,
            "_view_module": "@jupyter-widgets/controls",
            "_view_module_version": "1.5.0",
            "_view_name": "HTMLView",
            "description": "",
            "description_tooltip": null,
            "layout": "IPY_MODEL_33a4a422b1bd44c3a9bfcebde8eed949",
            "placeholder": "​",
            "style": "IPY_MODEL_33687b187e6140938d9966d852984bbc",
            "value": "100%"
          }
        },
        "576b1e0c4eeb4cd7bc3df2bf15d64aaf": {
          "model_module": "@jupyter-widgets/controls",
          "model_name": "FloatProgressModel",
          "model_module_version": "1.5.0",
          "state": {
            "_dom_classes": [],
            "_model_module": "@jupyter-widgets/controls",
            "_model_module_version": "1.5.0",
            "_model_name": "FloatProgressModel",
            "_view_count": null,
            "_view_module": "@jupyter-widgets/controls",
            "_view_module_version": "1.5.0",
            "_view_name": "ProgressView",
            "bar_style": "success",
            "description": "",
            "description_tooltip": null,
            "layout": "IPY_MODEL_15e74ed58b0d463497b00ac05f03d7ab",
            "max": 28881,
            "min": 0,
            "orientation": "horizontal",
            "style": "IPY_MODEL_c27b6d507737481b94277916e57cb04d",
            "value": 28881
          }
        },
        "245c9043342942e88c5699d43532218b": {
          "model_module": "@jupyter-widgets/controls",
          "model_name": "HTMLModel",
          "model_module_version": "1.5.0",
          "state": {
            "_dom_classes": [],
            "_model_module": "@jupyter-widgets/controls",
            "_model_module_version": "1.5.0",
            "_model_name": "HTMLModel",
            "_view_count": null,
            "_view_module": "@jupyter-widgets/controls",
            "_view_module_version": "1.5.0",
            "_view_name": "HTMLView",
            "description": "",
            "description_tooltip": null,
            "layout": "IPY_MODEL_2dc46420075e4b1ba35ef9a3499af0b7",
            "placeholder": "​",
            "style": "IPY_MODEL_53f8a51b69fd49e29d157b333718fbd8",
            "value": " 28881/28881 [00:00&lt;00:00, 937749.71it/s]"
          }
        },
        "ef7e19b35eac4382ab6ee078701ef83e": {
          "model_module": "@jupyter-widgets/base",
          "model_name": "LayoutModel",
          "model_module_version": "1.2.0",
          "state": {
            "_model_module": "@jupyter-widgets/base",
            "_model_module_version": "1.2.0",
            "_model_name": "LayoutModel",
            "_view_count": null,
            "_view_module": "@jupyter-widgets/base",
            "_view_module_version": "1.2.0",
            "_view_name": "LayoutView",
            "align_content": null,
            "align_items": null,
            "align_self": null,
            "border": null,
            "bottom": null,
            "display": null,
            "flex": null,
            "flex_flow": null,
            "grid_area": null,
            "grid_auto_columns": null,
            "grid_auto_flow": null,
            "grid_auto_rows": null,
            "grid_column": null,
            "grid_gap": null,
            "grid_row": null,
            "grid_template_areas": null,
            "grid_template_columns": null,
            "grid_template_rows": null,
            "height": null,
            "justify_content": null,
            "justify_items": null,
            "left": null,
            "margin": null,
            "max_height": null,
            "max_width": null,
            "min_height": null,
            "min_width": null,
            "object_fit": null,
            "object_position": null,
            "order": null,
            "overflow": null,
            "overflow_x": null,
            "overflow_y": null,
            "padding": null,
            "right": null,
            "top": null,
            "visibility": null,
            "width": null
          }
        },
        "33a4a422b1bd44c3a9bfcebde8eed949": {
          "model_module": "@jupyter-widgets/base",
          "model_name": "LayoutModel",
          "model_module_version": "1.2.0",
          "state": {
            "_model_module": "@jupyter-widgets/base",
            "_model_module_version": "1.2.0",
            "_model_name": "LayoutModel",
            "_view_count": null,
            "_view_module": "@jupyter-widgets/base",
            "_view_module_version": "1.2.0",
            "_view_name": "LayoutView",
            "align_content": null,
            "align_items": null,
            "align_self": null,
            "border": null,
            "bottom": null,
            "display": null,
            "flex": null,
            "flex_flow": null,
            "grid_area": null,
            "grid_auto_columns": null,
            "grid_auto_flow": null,
            "grid_auto_rows": null,
            "grid_column": null,
            "grid_gap": null,
            "grid_row": null,
            "grid_template_areas": null,
            "grid_template_columns": null,
            "grid_template_rows": null,
            "height": null,
            "justify_content": null,
            "justify_items": null,
            "left": null,
            "margin": null,
            "max_height": null,
            "max_width": null,
            "min_height": null,
            "min_width": null,
            "object_fit": null,
            "object_position": null,
            "order": null,
            "overflow": null,
            "overflow_x": null,
            "overflow_y": null,
            "padding": null,
            "right": null,
            "top": null,
            "visibility": null,
            "width": null
          }
        },
        "33687b187e6140938d9966d852984bbc": {
          "model_module": "@jupyter-widgets/controls",
          "model_name": "DescriptionStyleModel",
          "model_module_version": "1.5.0",
          "state": {
            "_model_module": "@jupyter-widgets/controls",
            "_model_module_version": "1.5.0",
            "_model_name": "DescriptionStyleModel",
            "_view_count": null,
            "_view_module": "@jupyter-widgets/base",
            "_view_module_version": "1.2.0",
            "_view_name": "StyleView",
            "description_width": ""
          }
        },
        "15e74ed58b0d463497b00ac05f03d7ab": {
          "model_module": "@jupyter-widgets/base",
          "model_name": "LayoutModel",
          "model_module_version": "1.2.0",
          "state": {
            "_model_module": "@jupyter-widgets/base",
            "_model_module_version": "1.2.0",
            "_model_name": "LayoutModel",
            "_view_count": null,
            "_view_module": "@jupyter-widgets/base",
            "_view_module_version": "1.2.0",
            "_view_name": "LayoutView",
            "align_content": null,
            "align_items": null,
            "align_self": null,
            "border": null,
            "bottom": null,
            "display": null,
            "flex": null,
            "flex_flow": null,
            "grid_area": null,
            "grid_auto_columns": null,
            "grid_auto_flow": null,
            "grid_auto_rows": null,
            "grid_column": null,
            "grid_gap": null,
            "grid_row": null,
            "grid_template_areas": null,
            "grid_template_columns": null,
            "grid_template_rows": null,
            "height": null,
            "justify_content": null,
            "justify_items": null,
            "left": null,
            "margin": null,
            "max_height": null,
            "max_width": null,
            "min_height": null,
            "min_width": null,
            "object_fit": null,
            "object_position": null,
            "order": null,
            "overflow": null,
            "overflow_x": null,
            "overflow_y": null,
            "padding": null,
            "right": null,
            "top": null,
            "visibility": null,
            "width": null
          }
        },
        "c27b6d507737481b94277916e57cb04d": {
          "model_module": "@jupyter-widgets/controls",
          "model_name": "ProgressStyleModel",
          "model_module_version": "1.5.0",
          "state": {
            "_model_module": "@jupyter-widgets/controls",
            "_model_module_version": "1.5.0",
            "_model_name": "ProgressStyleModel",
            "_view_count": null,
            "_view_module": "@jupyter-widgets/base",
            "_view_module_version": "1.2.0",
            "_view_name": "StyleView",
            "bar_color": null,
            "description_width": ""
          }
        },
        "2dc46420075e4b1ba35ef9a3499af0b7": {
          "model_module": "@jupyter-widgets/base",
          "model_name": "LayoutModel",
          "model_module_version": "1.2.0",
          "state": {
            "_model_module": "@jupyter-widgets/base",
            "_model_module_version": "1.2.0",
            "_model_name": "LayoutModel",
            "_view_count": null,
            "_view_module": "@jupyter-widgets/base",
            "_view_module_version": "1.2.0",
            "_view_name": "LayoutView",
            "align_content": null,
            "align_items": null,
            "align_self": null,
            "border": null,
            "bottom": null,
            "display": null,
            "flex": null,
            "flex_flow": null,
            "grid_area": null,
            "grid_auto_columns": null,
            "grid_auto_flow": null,
            "grid_auto_rows": null,
            "grid_column": null,
            "grid_gap": null,
            "grid_row": null,
            "grid_template_areas": null,
            "grid_template_columns": null,
            "grid_template_rows": null,
            "height": null,
            "justify_content": null,
            "justify_items": null,
            "left": null,
            "margin": null,
            "max_height": null,
            "max_width": null,
            "min_height": null,
            "min_width": null,
            "object_fit": null,
            "object_position": null,
            "order": null,
            "overflow": null,
            "overflow_x": null,
            "overflow_y": null,
            "padding": null,
            "right": null,
            "top": null,
            "visibility": null,
            "width": null
          }
        },
        "53f8a51b69fd49e29d157b333718fbd8": {
          "model_module": "@jupyter-widgets/controls",
          "model_name": "DescriptionStyleModel",
          "model_module_version": "1.5.0",
          "state": {
            "_model_module": "@jupyter-widgets/controls",
            "_model_module_version": "1.5.0",
            "_model_name": "DescriptionStyleModel",
            "_view_count": null,
            "_view_module": "@jupyter-widgets/base",
            "_view_module_version": "1.2.0",
            "_view_name": "StyleView",
            "description_width": ""
          }
        },
        "49691f8f3eef44c48d52e1e32cbeef18": {
          "model_module": "@jupyter-widgets/controls",
          "model_name": "HBoxModel",
          "model_module_version": "1.5.0",
          "state": {
            "_dom_classes": [],
            "_model_module": "@jupyter-widgets/controls",
            "_model_module_version": "1.5.0",
            "_model_name": "HBoxModel",
            "_view_count": null,
            "_view_module": "@jupyter-widgets/controls",
            "_view_module_version": "1.5.0",
            "_view_name": "HBoxView",
            "box_style": "",
            "children": [
              "IPY_MODEL_ee167306cfcd41098b26c1d6c14d97e5",
              "IPY_MODEL_0d157d65573f4203af07548d52cbb5f5",
              "IPY_MODEL_48197e57d815486db7c890c59ed1d9eb"
            ],
            "layout": "IPY_MODEL_334a76b772934741b4743be23d912c71"
          }
        },
        "ee167306cfcd41098b26c1d6c14d97e5": {
          "model_module": "@jupyter-widgets/controls",
          "model_name": "HTMLModel",
          "model_module_version": "1.5.0",
          "state": {
            "_dom_classes": [],
            "_model_module": "@jupyter-widgets/controls",
            "_model_module_version": "1.5.0",
            "_model_name": "HTMLModel",
            "_view_count": null,
            "_view_module": "@jupyter-widgets/controls",
            "_view_module_version": "1.5.0",
            "_view_name": "HTMLView",
            "description": "",
            "description_tooltip": null,
            "layout": "IPY_MODEL_90682dbfc5614531b50dba93e9607c42",
            "placeholder": "​",
            "style": "IPY_MODEL_ebe887db67484e4b86f1a9065edf60fc",
            "value": "100%"
          }
        },
        "0d157d65573f4203af07548d52cbb5f5": {
          "model_module": "@jupyter-widgets/controls",
          "model_name": "FloatProgressModel",
          "model_module_version": "1.5.0",
          "state": {
            "_dom_classes": [],
            "_model_module": "@jupyter-widgets/controls",
            "_model_module_version": "1.5.0",
            "_model_name": "FloatProgressModel",
            "_view_count": null,
            "_view_module": "@jupyter-widgets/controls",
            "_view_module_version": "1.5.0",
            "_view_name": "ProgressView",
            "bar_style": "success",
            "description": "",
            "description_tooltip": null,
            "layout": "IPY_MODEL_3c1dced1741a4a5ab2d7dc9bd054900e",
            "max": 1648877,
            "min": 0,
            "orientation": "horizontal",
            "style": "IPY_MODEL_a51a82106a134faca17344747db389d2",
            "value": 1648877
          }
        },
        "48197e57d815486db7c890c59ed1d9eb": {
          "model_module": "@jupyter-widgets/controls",
          "model_name": "HTMLModel",
          "model_module_version": "1.5.0",
          "state": {
            "_dom_classes": [],
            "_model_module": "@jupyter-widgets/controls",
            "_model_module_version": "1.5.0",
            "_model_name": "HTMLModel",
            "_view_count": null,
            "_view_module": "@jupyter-widgets/controls",
            "_view_module_version": "1.5.0",
            "_view_name": "HTMLView",
            "description": "",
            "description_tooltip": null,
            "layout": "IPY_MODEL_f3e8b5d9c7144be98dcdbe7cf2949499",
            "placeholder": "​",
            "style": "IPY_MODEL_4b77d63a68334ceca63d3f528f590b55",
            "value": " 1648877/1648877 [00:00&lt;00:00, 33768506.30it/s]"
          }
        },
        "334a76b772934741b4743be23d912c71": {
          "model_module": "@jupyter-widgets/base",
          "model_name": "LayoutModel",
          "model_module_version": "1.2.0",
          "state": {
            "_model_module": "@jupyter-widgets/base",
            "_model_module_version": "1.2.0",
            "_model_name": "LayoutModel",
            "_view_count": null,
            "_view_module": "@jupyter-widgets/base",
            "_view_module_version": "1.2.0",
            "_view_name": "LayoutView",
            "align_content": null,
            "align_items": null,
            "align_self": null,
            "border": null,
            "bottom": null,
            "display": null,
            "flex": null,
            "flex_flow": null,
            "grid_area": null,
            "grid_auto_columns": null,
            "grid_auto_flow": null,
            "grid_auto_rows": null,
            "grid_column": null,
            "grid_gap": null,
            "grid_row": null,
            "grid_template_areas": null,
            "grid_template_columns": null,
            "grid_template_rows": null,
            "height": null,
            "justify_content": null,
            "justify_items": null,
            "left": null,
            "margin": null,
            "max_height": null,
            "max_width": null,
            "min_height": null,
            "min_width": null,
            "object_fit": null,
            "object_position": null,
            "order": null,
            "overflow": null,
            "overflow_x": null,
            "overflow_y": null,
            "padding": null,
            "right": null,
            "top": null,
            "visibility": null,
            "width": null
          }
        },
        "90682dbfc5614531b50dba93e9607c42": {
          "model_module": "@jupyter-widgets/base",
          "model_name": "LayoutModel",
          "model_module_version": "1.2.0",
          "state": {
            "_model_module": "@jupyter-widgets/base",
            "_model_module_version": "1.2.0",
            "_model_name": "LayoutModel",
            "_view_count": null,
            "_view_module": "@jupyter-widgets/base",
            "_view_module_version": "1.2.0",
            "_view_name": "LayoutView",
            "align_content": null,
            "align_items": null,
            "align_self": null,
            "border": null,
            "bottom": null,
            "display": null,
            "flex": null,
            "flex_flow": null,
            "grid_area": null,
            "grid_auto_columns": null,
            "grid_auto_flow": null,
            "grid_auto_rows": null,
            "grid_column": null,
            "grid_gap": null,
            "grid_row": null,
            "grid_template_areas": null,
            "grid_template_columns": null,
            "grid_template_rows": null,
            "height": null,
            "justify_content": null,
            "justify_items": null,
            "left": null,
            "margin": null,
            "max_height": null,
            "max_width": null,
            "min_height": null,
            "min_width": null,
            "object_fit": null,
            "object_position": null,
            "order": null,
            "overflow": null,
            "overflow_x": null,
            "overflow_y": null,
            "padding": null,
            "right": null,
            "top": null,
            "visibility": null,
            "width": null
          }
        },
        "ebe887db67484e4b86f1a9065edf60fc": {
          "model_module": "@jupyter-widgets/controls",
          "model_name": "DescriptionStyleModel",
          "model_module_version": "1.5.0",
          "state": {
            "_model_module": "@jupyter-widgets/controls",
            "_model_module_version": "1.5.0",
            "_model_name": "DescriptionStyleModel",
            "_view_count": null,
            "_view_module": "@jupyter-widgets/base",
            "_view_module_version": "1.2.0",
            "_view_name": "StyleView",
            "description_width": ""
          }
        },
        "3c1dced1741a4a5ab2d7dc9bd054900e": {
          "model_module": "@jupyter-widgets/base",
          "model_name": "LayoutModel",
          "model_module_version": "1.2.0",
          "state": {
            "_model_module": "@jupyter-widgets/base",
            "_model_module_version": "1.2.0",
            "_model_name": "LayoutModel",
            "_view_count": null,
            "_view_module": "@jupyter-widgets/base",
            "_view_module_version": "1.2.0",
            "_view_name": "LayoutView",
            "align_content": null,
            "align_items": null,
            "align_self": null,
            "border": null,
            "bottom": null,
            "display": null,
            "flex": null,
            "flex_flow": null,
            "grid_area": null,
            "grid_auto_columns": null,
            "grid_auto_flow": null,
            "grid_auto_rows": null,
            "grid_column": null,
            "grid_gap": null,
            "grid_row": null,
            "grid_template_areas": null,
            "grid_template_columns": null,
            "grid_template_rows": null,
            "height": null,
            "justify_content": null,
            "justify_items": null,
            "left": null,
            "margin": null,
            "max_height": null,
            "max_width": null,
            "min_height": null,
            "min_width": null,
            "object_fit": null,
            "object_position": null,
            "order": null,
            "overflow": null,
            "overflow_x": null,
            "overflow_y": null,
            "padding": null,
            "right": null,
            "top": null,
            "visibility": null,
            "width": null
          }
        },
        "a51a82106a134faca17344747db389d2": {
          "model_module": "@jupyter-widgets/controls",
          "model_name": "ProgressStyleModel",
          "model_module_version": "1.5.0",
          "state": {
            "_model_module": "@jupyter-widgets/controls",
            "_model_module_version": "1.5.0",
            "_model_name": "ProgressStyleModel",
            "_view_count": null,
            "_view_module": "@jupyter-widgets/base",
            "_view_module_version": "1.2.0",
            "_view_name": "StyleView",
            "bar_color": null,
            "description_width": ""
          }
        },
        "f3e8b5d9c7144be98dcdbe7cf2949499": {
          "model_module": "@jupyter-widgets/base",
          "model_name": "LayoutModel",
          "model_module_version": "1.2.0",
          "state": {
            "_model_module": "@jupyter-widgets/base",
            "_model_module_version": "1.2.0",
            "_model_name": "LayoutModel",
            "_view_count": null,
            "_view_module": "@jupyter-widgets/base",
            "_view_module_version": "1.2.0",
            "_view_name": "LayoutView",
            "align_content": null,
            "align_items": null,
            "align_self": null,
            "border": null,
            "bottom": null,
            "display": null,
            "flex": null,
            "flex_flow": null,
            "grid_area": null,
            "grid_auto_columns": null,
            "grid_auto_flow": null,
            "grid_auto_rows": null,
            "grid_column": null,
            "grid_gap": null,
            "grid_row": null,
            "grid_template_areas": null,
            "grid_template_columns": null,
            "grid_template_rows": null,
            "height": null,
            "justify_content": null,
            "justify_items": null,
            "left": null,
            "margin": null,
            "max_height": null,
            "max_width": null,
            "min_height": null,
            "min_width": null,
            "object_fit": null,
            "object_position": null,
            "order": null,
            "overflow": null,
            "overflow_x": null,
            "overflow_y": null,
            "padding": null,
            "right": null,
            "top": null,
            "visibility": null,
            "width": null
          }
        },
        "4b77d63a68334ceca63d3f528f590b55": {
          "model_module": "@jupyter-widgets/controls",
          "model_name": "DescriptionStyleModel",
          "model_module_version": "1.5.0",
          "state": {
            "_model_module": "@jupyter-widgets/controls",
            "_model_module_version": "1.5.0",
            "_model_name": "DescriptionStyleModel",
            "_view_count": null,
            "_view_module": "@jupyter-widgets/base",
            "_view_module_version": "1.2.0",
            "_view_name": "StyleView",
            "description_width": ""
          }
        },
        "b54d22a8df824c59b9324e7db94e31dc": {
          "model_module": "@jupyter-widgets/controls",
          "model_name": "HBoxModel",
          "model_module_version": "1.5.0",
          "state": {
            "_dom_classes": [],
            "_model_module": "@jupyter-widgets/controls",
            "_model_module_version": "1.5.0",
            "_model_name": "HBoxModel",
            "_view_count": null,
            "_view_module": "@jupyter-widgets/controls",
            "_view_module_version": "1.5.0",
            "_view_name": "HBoxView",
            "box_style": "",
            "children": [
              "IPY_MODEL_f021ce8ea78e48a1a0f565f86913e7cf",
              "IPY_MODEL_cab13f8e164a42ed8bd9dad2b87eb81c",
              "IPY_MODEL_52cef3d77dc94a1a8f2bc50ae5b6f933"
            ],
            "layout": "IPY_MODEL_2e733d56796746e889def7f270ee0c42"
          }
        },
        "f021ce8ea78e48a1a0f565f86913e7cf": {
          "model_module": "@jupyter-widgets/controls",
          "model_name": "HTMLModel",
          "model_module_version": "1.5.0",
          "state": {
            "_dom_classes": [],
            "_model_module": "@jupyter-widgets/controls",
            "_model_module_version": "1.5.0",
            "_model_name": "HTMLModel",
            "_view_count": null,
            "_view_module": "@jupyter-widgets/controls",
            "_view_module_version": "1.5.0",
            "_view_name": "HTMLView",
            "description": "",
            "description_tooltip": null,
            "layout": "IPY_MODEL_98fc76bbbe9745ba9964e3981128ed7a",
            "placeholder": "​",
            "style": "IPY_MODEL_d669c6d80b8947f4b4aa5827477c8a90",
            "value": "100%"
          }
        },
        "cab13f8e164a42ed8bd9dad2b87eb81c": {
          "model_module": "@jupyter-widgets/controls",
          "model_name": "FloatProgressModel",
          "model_module_version": "1.5.0",
          "state": {
            "_dom_classes": [],
            "_model_module": "@jupyter-widgets/controls",
            "_model_module_version": "1.5.0",
            "_model_name": "FloatProgressModel",
            "_view_count": null,
            "_view_module": "@jupyter-widgets/controls",
            "_view_module_version": "1.5.0",
            "_view_name": "ProgressView",
            "bar_style": "success",
            "description": "",
            "description_tooltip": null,
            "layout": "IPY_MODEL_a00a21bdf8334abc97c3b1ede14d3e83",
            "max": 4542,
            "min": 0,
            "orientation": "horizontal",
            "style": "IPY_MODEL_a6bf1dda117a47cb99c6134dc0662b89",
            "value": 4542
          }
        },
        "52cef3d77dc94a1a8f2bc50ae5b6f933": {
          "model_module": "@jupyter-widgets/controls",
          "model_name": "HTMLModel",
          "model_module_version": "1.5.0",
          "state": {
            "_dom_classes": [],
            "_model_module": "@jupyter-widgets/controls",
            "_model_module_version": "1.5.0",
            "_model_name": "HTMLModel",
            "_view_count": null,
            "_view_module": "@jupyter-widgets/controls",
            "_view_module_version": "1.5.0",
            "_view_name": "HTMLView",
            "description": "",
            "description_tooltip": null,
            "layout": "IPY_MODEL_e7f78ed3c8ce4376bf11aa3fa41ad1ad",
            "placeholder": "​",
            "style": "IPY_MODEL_a2a4b49b06644f12a695ac47e44ba0c4",
            "value": " 4542/4542 [00:00&lt;00:00, 201496.95it/s]"
          }
        },
        "2e733d56796746e889def7f270ee0c42": {
          "model_module": "@jupyter-widgets/base",
          "model_name": "LayoutModel",
          "model_module_version": "1.2.0",
          "state": {
            "_model_module": "@jupyter-widgets/base",
            "_model_module_version": "1.2.0",
            "_model_name": "LayoutModel",
            "_view_count": null,
            "_view_module": "@jupyter-widgets/base",
            "_view_module_version": "1.2.0",
            "_view_name": "LayoutView",
            "align_content": null,
            "align_items": null,
            "align_self": null,
            "border": null,
            "bottom": null,
            "display": null,
            "flex": null,
            "flex_flow": null,
            "grid_area": null,
            "grid_auto_columns": null,
            "grid_auto_flow": null,
            "grid_auto_rows": null,
            "grid_column": null,
            "grid_gap": null,
            "grid_row": null,
            "grid_template_areas": null,
            "grid_template_columns": null,
            "grid_template_rows": null,
            "height": null,
            "justify_content": null,
            "justify_items": null,
            "left": null,
            "margin": null,
            "max_height": null,
            "max_width": null,
            "min_height": null,
            "min_width": null,
            "object_fit": null,
            "object_position": null,
            "order": null,
            "overflow": null,
            "overflow_x": null,
            "overflow_y": null,
            "padding": null,
            "right": null,
            "top": null,
            "visibility": null,
            "width": null
          }
        },
        "98fc76bbbe9745ba9964e3981128ed7a": {
          "model_module": "@jupyter-widgets/base",
          "model_name": "LayoutModel",
          "model_module_version": "1.2.0",
          "state": {
            "_model_module": "@jupyter-widgets/base",
            "_model_module_version": "1.2.0",
            "_model_name": "LayoutModel",
            "_view_count": null,
            "_view_module": "@jupyter-widgets/base",
            "_view_module_version": "1.2.0",
            "_view_name": "LayoutView",
            "align_content": null,
            "align_items": null,
            "align_self": null,
            "border": null,
            "bottom": null,
            "display": null,
            "flex": null,
            "flex_flow": null,
            "grid_area": null,
            "grid_auto_columns": null,
            "grid_auto_flow": null,
            "grid_auto_rows": null,
            "grid_column": null,
            "grid_gap": null,
            "grid_row": null,
            "grid_template_areas": null,
            "grid_template_columns": null,
            "grid_template_rows": null,
            "height": null,
            "justify_content": null,
            "justify_items": null,
            "left": null,
            "margin": null,
            "max_height": null,
            "max_width": null,
            "min_height": null,
            "min_width": null,
            "object_fit": null,
            "object_position": null,
            "order": null,
            "overflow": null,
            "overflow_x": null,
            "overflow_y": null,
            "padding": null,
            "right": null,
            "top": null,
            "visibility": null,
            "width": null
          }
        },
        "d669c6d80b8947f4b4aa5827477c8a90": {
          "model_module": "@jupyter-widgets/controls",
          "model_name": "DescriptionStyleModel",
          "model_module_version": "1.5.0",
          "state": {
            "_model_module": "@jupyter-widgets/controls",
            "_model_module_version": "1.5.0",
            "_model_name": "DescriptionStyleModel",
            "_view_count": null,
            "_view_module": "@jupyter-widgets/base",
            "_view_module_version": "1.2.0",
            "_view_name": "StyleView",
            "description_width": ""
          }
        },
        "a00a21bdf8334abc97c3b1ede14d3e83": {
          "model_module": "@jupyter-widgets/base",
          "model_name": "LayoutModel",
          "model_module_version": "1.2.0",
          "state": {
            "_model_module": "@jupyter-widgets/base",
            "_model_module_version": "1.2.0",
            "_model_name": "LayoutModel",
            "_view_count": null,
            "_view_module": "@jupyter-widgets/base",
            "_view_module_version": "1.2.0",
            "_view_name": "LayoutView",
            "align_content": null,
            "align_items": null,
            "align_self": null,
            "border": null,
            "bottom": null,
            "display": null,
            "flex": null,
            "flex_flow": null,
            "grid_area": null,
            "grid_auto_columns": null,
            "grid_auto_flow": null,
            "grid_auto_rows": null,
            "grid_column": null,
            "grid_gap": null,
            "grid_row": null,
            "grid_template_areas": null,
            "grid_template_columns": null,
            "grid_template_rows": null,
            "height": null,
            "justify_content": null,
            "justify_items": null,
            "left": null,
            "margin": null,
            "max_height": null,
            "max_width": null,
            "min_height": null,
            "min_width": null,
            "object_fit": null,
            "object_position": null,
            "order": null,
            "overflow": null,
            "overflow_x": null,
            "overflow_y": null,
            "padding": null,
            "right": null,
            "top": null,
            "visibility": null,
            "width": null
          }
        },
        "a6bf1dda117a47cb99c6134dc0662b89": {
          "model_module": "@jupyter-widgets/controls",
          "model_name": "ProgressStyleModel",
          "model_module_version": "1.5.0",
          "state": {
            "_model_module": "@jupyter-widgets/controls",
            "_model_module_version": "1.5.0",
            "_model_name": "ProgressStyleModel",
            "_view_count": null,
            "_view_module": "@jupyter-widgets/base",
            "_view_module_version": "1.2.0",
            "_view_name": "StyleView",
            "bar_color": null,
            "description_width": ""
          }
        },
        "e7f78ed3c8ce4376bf11aa3fa41ad1ad": {
          "model_module": "@jupyter-widgets/base",
          "model_name": "LayoutModel",
          "model_module_version": "1.2.0",
          "state": {
            "_model_module": "@jupyter-widgets/base",
            "_model_module_version": "1.2.0",
            "_model_name": "LayoutModel",
            "_view_count": null,
            "_view_module": "@jupyter-widgets/base",
            "_view_module_version": "1.2.0",
            "_view_name": "LayoutView",
            "align_content": null,
            "align_items": null,
            "align_self": null,
            "border": null,
            "bottom": null,
            "display": null,
            "flex": null,
            "flex_flow": null,
            "grid_area": null,
            "grid_auto_columns": null,
            "grid_auto_flow": null,
            "grid_auto_rows": null,
            "grid_column": null,
            "grid_gap": null,
            "grid_row": null,
            "grid_template_areas": null,
            "grid_template_columns": null,
            "grid_template_rows": null,
            "height": null,
            "justify_content": null,
            "justify_items": null,
            "left": null,
            "margin": null,
            "max_height": null,
            "max_width": null,
            "min_height": null,
            "min_width": null,
            "object_fit": null,
            "object_position": null,
            "order": null,
            "overflow": null,
            "overflow_x": null,
            "overflow_y": null,
            "padding": null,
            "right": null,
            "top": null,
            "visibility": null,
            "width": null
          }
        },
        "a2a4b49b06644f12a695ac47e44ba0c4": {
          "model_module": "@jupyter-widgets/controls",
          "model_name": "DescriptionStyleModel",
          "model_module_version": "1.5.0",
          "state": {
            "_model_module": "@jupyter-widgets/controls",
            "_model_module_version": "1.5.0",
            "_model_name": "DescriptionStyleModel",
            "_view_count": null,
            "_view_module": "@jupyter-widgets/base",
            "_view_module_version": "1.2.0",
            "_view_name": "StyleView",
            "description_width": ""
          }
        }
      }
    }
  },
  "cells": [
    {
      "cell_type": "markdown",
      "source": [
        "#Initialization"
      ],
      "metadata": {
        "id": "sD_6_DN5IZlp"
      }
    },
    {
      "cell_type": "markdown",
      "source": [
        "Import:\n",
        "1. NumPy implements support for multi-dimensional arrays and matrices.\n",
        "2. PyTorch is an open source ML library.\n",
        "3. TorchVision includes popular datasets, model architectures, and common image transformations for CV (computer vision).\n",
        "4. Matplotlib includes plotting tools.\n",
        "\n",
        "\n",
        "~~Install gdown~~ (already installed). It lets us download from Google Drive.\n",
        "\n",
        "Make a folder for the images to go in.\n",
        "\n",
        "Define a helper function to plot multiple labeled images in a 2x5 grid."
      ],
      "metadata": {
        "id": "XtfK97UayNSM"
      }
    },
    {
      "cell_type": "code",
      "execution_count": 1,
      "metadata": {
        "id": "YhSUxaAb-WS7"
      },
      "outputs": [],
      "source": [
        "import numpy as np\n",
        "import torch \n",
        "import torchvision as tv\n",
        "import torchvision.transforms.functional as f_tfm\n",
        "import matplotlib.pyplot as plt\n",
        "\n",
        "\n",
        "#!pip install --upgrade --no-cache-dir gdown\n",
        "\n",
        "!mkdir written-numbers\n",
        "\n",
        "\"\"\" Helper function to plot a gallery of labeled numbers \"\"\"\n",
        "def plot_gallery(images, titles, h, w, n_row=2, n_col=5):\n",
        "    plt.figure(figsize=(2 * n_col, 2 * n_row))\n",
        "    plt.subplots_adjust(bottom=0, left=0.01, right=0.99, top=0.90, hspace=0.35)\n",
        "    for i in range(n_row * n_col):\n",
        "        plt.subplot(n_row, n_col, i + 1)\n",
        "        plt.imshow(images[i].numpy().squeeze(), cmap=plt.cm.gray)\n",
        "        plt.title(titles[i], size=12)\n",
        "        plt.xticks(()) #remove tick marks\n",
        "        plt.yticks(())"
      ]
    },
    {
      "cell_type": "markdown",
      "source": [
        "#Download and Transform Images"
      ],
      "metadata": {
        "id": "4rW8q_ylBez1"
      }
    },
    {
      "cell_type": "markdown",
      "source": [
        "Training images from MNIST dataset. Tranformations:\n",
        "1. Normalize (mean = 0.5, std = 0.5)"
      ],
      "metadata": {
        "id": "QYC-8udNyW9t"
      }
    },
    {
      "cell_type": "code",
      "source": [
        "# Normalize only works on a tensor image, so we need a ToTensor transform first\n",
        "transform = tv.transforms.Compose([\n",
        "    tv.transforms.ToTensor(), \n",
        "    tv.transforms.Normalize((0.5,), (0.5,))\n",
        "])\n",
        "\n",
        "training_set = tv.datasets.MNIST('-/.pytorch/MNIST_data/', download=True, train=True, transform=transform)\n",
        "trainloader = torch.utils.data.DataLoader(training_set, batch_size=64, shuffle=True)"
      ],
      "metadata": {
        "id": "aVeUwSJI_jlz",
        "colab": {
          "base_uri": "https://localhost:8080/",
          "height": 423,
          "referenced_widgets": [
            "85f1162887a9438dabee4162c373e707",
            "4621ca2213454690ad82a163d47c8cb7",
            "b7b335474f9041a998ba2fb4d087dc23",
            "9317a3cf393b4006b74607fb9540716f",
            "86c909d8102a44e7aaa4b012f783db0f",
            "5647f8b596374229baa370b83e60d04a",
            "78ee8565ecc542a6aab50caee4fd2c8d",
            "af0e16b886e441839d37e2dd50161082",
            "8d09173aa94f46619fb7cc98120e4c6b",
            "1109bf08b24e40db91f8b6b92bb079da",
            "790ef7b20af94b6a89c72f40af6c3786",
            "387db0c91d7c4d748c36abdd90c98335",
            "91d422a9b7124b00859eed870c091712",
            "576b1e0c4eeb4cd7bc3df2bf15d64aaf",
            "245c9043342942e88c5699d43532218b",
            "ef7e19b35eac4382ab6ee078701ef83e",
            "33a4a422b1bd44c3a9bfcebde8eed949",
            "33687b187e6140938d9966d852984bbc",
            "15e74ed58b0d463497b00ac05f03d7ab",
            "c27b6d507737481b94277916e57cb04d",
            "2dc46420075e4b1ba35ef9a3499af0b7",
            "53f8a51b69fd49e29d157b333718fbd8",
            "49691f8f3eef44c48d52e1e32cbeef18",
            "ee167306cfcd41098b26c1d6c14d97e5",
            "0d157d65573f4203af07548d52cbb5f5",
            "48197e57d815486db7c890c59ed1d9eb",
            "334a76b772934741b4743be23d912c71",
            "90682dbfc5614531b50dba93e9607c42",
            "ebe887db67484e4b86f1a9065edf60fc",
            "3c1dced1741a4a5ab2d7dc9bd054900e",
            "a51a82106a134faca17344747db389d2",
            "f3e8b5d9c7144be98dcdbe7cf2949499",
            "4b77d63a68334ceca63d3f528f590b55",
            "b54d22a8df824c59b9324e7db94e31dc",
            "f021ce8ea78e48a1a0f565f86913e7cf",
            "cab13f8e164a42ed8bd9dad2b87eb81c",
            "52cef3d77dc94a1a8f2bc50ae5b6f933",
            "2e733d56796746e889def7f270ee0c42",
            "98fc76bbbe9745ba9964e3981128ed7a",
            "d669c6d80b8947f4b4aa5827477c8a90",
            "a00a21bdf8334abc97c3b1ede14d3e83",
            "a6bf1dda117a47cb99c6134dc0662b89",
            "e7f78ed3c8ce4376bf11aa3fa41ad1ad",
            "a2a4b49b06644f12a695ac47e44ba0c4"
          ]
        },
        "outputId": "f8089758-fa1f-427f-86b8-656a65b1001b"
      },
      "execution_count": 2,
      "outputs": [
        {
          "output_type": "stream",
          "name": "stdout",
          "text": [
            "Downloading http://yann.lecun.com/exdb/mnist/train-images-idx3-ubyte.gz\n",
            "Downloading http://yann.lecun.com/exdb/mnist/train-images-idx3-ubyte.gz to -/.pytorch/MNIST_data/MNIST/raw/train-images-idx3-ubyte.gz\n"
          ]
        },
        {
          "output_type": "display_data",
          "data": {
            "text/plain": [
              "  0%|          | 0/9912422 [00:00<?, ?it/s]"
            ],
            "application/vnd.jupyter.widget-view+json": {
              "version_major": 2,
              "version_minor": 0,
              "model_id": "85f1162887a9438dabee4162c373e707"
            }
          },
          "metadata": {}
        },
        {
          "output_type": "stream",
          "name": "stdout",
          "text": [
            "Extracting -/.pytorch/MNIST_data/MNIST/raw/train-images-idx3-ubyte.gz to -/.pytorch/MNIST_data/MNIST/raw\n",
            "\n",
            "Downloading http://yann.lecun.com/exdb/mnist/train-labels-idx1-ubyte.gz\n",
            "Downloading http://yann.lecun.com/exdb/mnist/train-labels-idx1-ubyte.gz to -/.pytorch/MNIST_data/MNIST/raw/train-labels-idx1-ubyte.gz\n"
          ]
        },
        {
          "output_type": "display_data",
          "data": {
            "text/plain": [
              "  0%|          | 0/28881 [00:00<?, ?it/s]"
            ],
            "application/vnd.jupyter.widget-view+json": {
              "version_major": 2,
              "version_minor": 0,
              "model_id": "387db0c91d7c4d748c36abdd90c98335"
            }
          },
          "metadata": {}
        },
        {
          "output_type": "stream",
          "name": "stdout",
          "text": [
            "Extracting -/.pytorch/MNIST_data/MNIST/raw/train-labels-idx1-ubyte.gz to -/.pytorch/MNIST_data/MNIST/raw\n",
            "\n",
            "Downloading http://yann.lecun.com/exdb/mnist/t10k-images-idx3-ubyte.gz\n",
            "Downloading http://yann.lecun.com/exdb/mnist/t10k-images-idx3-ubyte.gz to -/.pytorch/MNIST_data/MNIST/raw/t10k-images-idx3-ubyte.gz\n"
          ]
        },
        {
          "output_type": "display_data",
          "data": {
            "text/plain": [
              "  0%|          | 0/1648877 [00:00<?, ?it/s]"
            ],
            "application/vnd.jupyter.widget-view+json": {
              "version_major": 2,
              "version_minor": 0,
              "model_id": "49691f8f3eef44c48d52e1e32cbeef18"
            }
          },
          "metadata": {}
        },
        {
          "output_type": "stream",
          "name": "stdout",
          "text": [
            "Extracting -/.pytorch/MNIST_data/MNIST/raw/t10k-images-idx3-ubyte.gz to -/.pytorch/MNIST_data/MNIST/raw\n",
            "\n",
            "Downloading http://yann.lecun.com/exdb/mnist/t10k-labels-idx1-ubyte.gz\n",
            "Downloading http://yann.lecun.com/exdb/mnist/t10k-labels-idx1-ubyte.gz to -/.pytorch/MNIST_data/MNIST/raw/t10k-labels-idx1-ubyte.gz\n"
          ]
        },
        {
          "output_type": "display_data",
          "data": {
            "text/plain": [
              "  0%|          | 0/4542 [00:00<?, ?it/s]"
            ],
            "application/vnd.jupyter.widget-view+json": {
              "version_major": 2,
              "version_minor": 0,
              "model_id": "b54d22a8df824c59b9324e7db94e31dc"
            }
          },
          "metadata": {}
        },
        {
          "output_type": "stream",
          "name": "stdout",
          "text": [
            "Extracting -/.pytorch/MNIST_data/MNIST/raw/t10k-labels-idx1-ubyte.gz to -/.pytorch/MNIST_data/MNIST/raw\n",
            "\n"
          ]
        }
      ]
    },
    {
      "cell_type": "markdown",
      "source": [
        "Custom images from school Google Drive. Transformations:\n",
        "1. Crop to 750x750 about the center (zooms in)\n",
        "2. Add contrast (to remove noise)\n",
        "3. Convert to grayscale\n",
        "4. Resize image to 28x28\n",
        "5. Invert (to have white number on black background)"
      ],
      "metadata": {
        "id": "5CAJ5J9myivN"
      }
    },
    {
      "cell_type": "code",
      "source": [
        "# Download handwritten images from Google Drive\n",
        "!gdown 1AwngrKgcREsxENdDBmCRoISHqlKyas9B -O ./written-numbers/one.jpg\n",
        "!gdown 1X5m88xYV9EkVaqiUlK0BlIqpM-6zcFH2 -O ./written-numbers/four.jpg\n",
        "!gdown 1iCmv0hw3Uz8E3AfBQQSrp2i0BCrOyiAh -O ./written-numbers/seven.jpg\n",
        "!gdown 18AIxtmk_ZghAbe7FlW-aWPsPAaj_giuH -O ./written-numbers/eight.jpg\n",
        "!gdown 1Llt49PwCKuaCBr_XQt00TsdiKr5A5fbB -O ./written-numbers/nine.jpg\n",
        "\n",
        "# Transform to 28x28 with white numbers\n",
        "numbers = [\"one\", \"four\", \"seven\", \"eight\", \"nine\"]\n",
        "nums = []\n",
        "\n",
        "for name in numbers:\n",
        "    path = \"written-numbers/\" + name + \".jpg\"\n",
        "    num = tv.io.read_image(path).type(torch.float)\n",
        "    num = f_tfm.center_crop(num, 750)\n",
        "    num = f_tfm.adjust_contrast(num, 2)\n",
        "    num = f_tfm.rgb_to_grayscale(num)\n",
        "    num = f_tfm.resize(num, (28, 28))\n",
        "    num = f_tfm.invert(num)\n",
        "    nums.append(num[0])"
      ],
      "metadata": {
        "id": "k6kpy8NWJr38",
        "colab": {
          "base_uri": "https://localhost:8080/"
        },
        "outputId": "7dacb9d9-9a36-4cff-fa19-15434ecb3d71"
      },
      "execution_count": 3,
      "outputs": [
        {
          "output_type": "stream",
          "name": "stdout",
          "text": [
            "Downloading...\n",
            "From: https://drive.google.com/uc?id=1AwngrKgcREsxENdDBmCRoISHqlKyas9B\n",
            "To: /content/written-numbers/one.jpg\n",
            "100% 153k/153k [00:00<00:00, 36.7MB/s]\n",
            "Downloading...\n",
            "From: https://drive.google.com/uc?id=1X5m88xYV9EkVaqiUlK0BlIqpM-6zcFH2\n",
            "To: /content/written-numbers/four.jpg\n",
            "100% 139k/139k [00:00<00:00, 42.0MB/s]\n",
            "Downloading...\n",
            "From: https://drive.google.com/uc?id=1iCmv0hw3Uz8E3AfBQQSrp2i0BCrOyiAh\n",
            "To: /content/written-numbers/seven.jpg\n",
            "100% 144k/144k [00:00<00:00, 80.8MB/s]\n",
            "Downloading...\n",
            "From: https://drive.google.com/uc?id=18AIxtmk_ZghAbe7FlW-aWPsPAaj_giuH\n",
            "To: /content/written-numbers/eight.jpg\n",
            "100% 159k/159k [00:00<00:00, 74.3MB/s]\n",
            "Downloading...\n",
            "From: https://drive.google.com/uc?id=1Llt49PwCKuaCBr_XQt00TsdiKr5A5fbB\n",
            "To: /content/written-numbers/nine.jpg\n",
            "100% 144k/144k [00:00<00:00, 50.1MB/s]\n"
          ]
        }
      ]
    },
    {
      "cell_type": "markdown",
      "source": [
        "# Display Initial Images"
      ],
      "metadata": {
        "id": "mjkASKRcwS98"
      }
    },
    {
      "cell_type": "markdown",
      "source": [
        "Numbers from the MNIST dataset."
      ],
      "metadata": {
        "id": "2gZrBjXPxHBB"
      }
    },
    {
      "cell_type": "code",
      "source": [
        "#create an iterator for the dataset\n",
        "dataiter = iter(trainloader)\n",
        "images, labels = next(dataiter)\n",
        "\n",
        "names = [\"\", \"\", \"\", \"\", \"\"]\n",
        "plot_gallery(images, names, 28, 28, 1)"
      ],
      "metadata": {
        "colab": {
          "base_uri": "https://localhost:8080/",
          "height": 156
        },
        "id": "9Gf87TFb_o2v",
        "outputId": "f9b469a1-b5aa-4108-9d6b-4c3b3e088103"
      },
      "execution_count": 4,
      "outputs": [
        {
          "output_type": "display_data",
          "data": {
            "text/plain": [
              "<Figure size 720x144 with 5 Axes>"
            ],
            "image/png": "[encoded data removed]"
          },
          "metadata": {}
        }
      ]
    },
    {
      "cell_type": "markdown",
      "source": [
        "Custom handwritten numbers."
      ],
      "metadata": {
        "id": "3f2jqkeWwbsd"
      }
    },
    {
      "cell_type": "code",
      "source": [
        "plot_gallery(nums, numbers, 28, 28, 1)"
      ],
      "metadata": {
        "colab": {
          "base_uri": "https://localhost:8080/",
          "height": 172
        },
        "id": "yL98PJK1wfK1",
        "outputId": "dbff944a-8ec2-4531-8af3-b22bb26c6857"
      },
      "execution_count": 5,
      "outputs": [
        {
          "output_type": "display_data",
          "data": {
            "text/plain": [
              "<Figure size 720x144 with 5 Axes>"
            ],
            "image/png": "[encoded data removed]"
          },
          "metadata": {}
        }
      ]
    },
    {
      "cell_type": "markdown",
      "source": [
        "#Create the neural network"
      ],
      "metadata": {
        "id": "gSCRM0kuoRto"
      }
    },
    {
      "cell_type": "code",
      "source": [
        "#784 inputs, 128  hiddenl (ReLU), 64 hidden2 (ReLU), 10 output (Softmax)\n",
        "# ReLU - rectified linear unit (or rectifier)\n",
        "# - Outputs the input if > 0, otherwise outputs 0\n",
        "# - Most popular activation function, enables better training of deeper networks\n",
        "# Softmax is used to normalize the output to a probability distribution\n",
        "input_size = 784 \n",
        "hidden_sizes = [128, 64] \n",
        "output_size = 10 \n",
        "\n",
        "# Defines the neural network: feed-forward using a sequential container \n",
        "# Modules will be added to it in the order they are passed in the constructor\n",
        "model = torch.nn.Sequential(\n",
        "    torch.nn.Linear(input_size, hidden_sizes[0]),\n",
        "    torch.nn.ReLU(),\n",
        "    torch.nn.Linear(hidden_sizes[0], hidden_sizes[1]),\n",
        "    torch.nn.Linear(hidden_sizes[1], output_size),\n",
        "    torch.nn.Softmax(dim=1)\n",
        ") "
      ],
      "metadata": {
        "id": "4M_E_zEo_soq"
      },
      "execution_count": 6,
      "outputs": []
    },
    {
      "cell_type": "code",
      "source": [
        "# Define loss function - Negative Log Likelihood Loss\n",
        "criterion = torch.nn.NLLLoss()\n",
        "\n",
        "# Iterate over the data \n",
        "dataiter = iter(trainloader)\n",
        "images, labels = next(dataiter)\n",
        "\n",
        "# Reshape data, 2D image -> 1D vector\n",
        "# -1 tells it to infer from the other dimensions\n",
        "#images = images.view(images.shape[0], -1) \n",
        " \n",
        "# Feed forward \n",
        "#logps = model(images) \n",
        "#loss = criterion(logps, labels)"
      ],
      "metadata": {
        "id": "s7hn0260GvJt"
      },
      "execution_count": 7,
      "outputs": []
    },
    {
      "cell_type": "markdown",
      "source": [
        "#Train the neural network"
      ],
      "metadata": {
        "id": "yQC4q1H16Pgb"
      }
    },
    {
      "cell_type": "markdown",
      "source": [
        "An epoch is an entire training set. Going through all of the images multiple times gives the network more time to train and improve.\n",
        "\n",
        "A batch is a subset of the training set."
      ],
      "metadata": {
        "id": "5xiV803WUx2g"
      }
    },
    {
      "cell_type": "code",
      "source": [
        "# SGD stands for stochastic gradient descent\n",
        "optimizer = torch.optim.SGD(model.parameters(), lr=0.005, momentum=1.5)\n",
        "\n",
        "epochs = 20\n",
        "for e in range(epochs):\n",
        "    running_loss = 0\n",
        "    \n",
        "    for images, labels in trainloader: \n",
        "        images = images.view(images.shape[0], -1) \n",
        "\n",
        "        # Feed forward\n",
        "        optimizer.zero_grad() #zero gradients\n",
        "        output = model(images)\n",
        "        loss = criterion(output, labels)\n",
        "\n",
        "        # Backpropagation \n",
        "        loss.backward() \n",
        "        optimizer.step() #this updates the weights\n",
        "        running_loss += loss.item() \n",
        "\n",
        "    else: \n",
        "        print(f\"{e: 2}: {(running_loss/len(trainloader)):.8f}\", end='\\t\\t')\n",
        "        if ((e+1) % 5 == 0): print()"
      ],
      "metadata": {
        "id": "2fAjz4iK_wtI"
      },
      "execution_count": null,
      "outputs": []
    },
    {
      "cell_type": "code",
      "source": [
        "# Lists for visualization\n",
        "final_images = []\n",
        "final_preds = []\n",
        "\n",
        "# Measure model accuracy \n",
        "correct = 0\n",
        "all_counted = 0\n",
        "\n",
        "for images, labels in trainloader: \n",
        "    for i in range(len(labels)):\n",
        "        # Reshape image and feed it through the model\n",
        "        img = images[i].view(1, 784) \n",
        "        with torch.no_grad(): \n",
        "            logps = model(img) \n",
        "        \n",
        "        ps = torch.exp(logps) \n",
        "\n",
        "        # Find the prediction it made\n",
        "        probabilities = list(ps.numpy()[0])\n",
        "        pred_label = probabilities.index(max(probabilities)) \n",
        "        true_label = labels.numpy()[i]\n",
        " \n",
        "        # Update for percent accuracy\n",
        "        all_counted += 1\n",
        "        if(true_label == pred_label): \n",
        "            correct += 1\n",
        "        \n",
        "        # Add to arrays for visualization\n",
        "        if (i == 0):\n",
        "            final_images.append(images[i])\n",
        "            final_preds.append(f\"pred: {pred_label}\")\n",
        "\n",
        "print(f\"Model Accuracy: {correct/all_counted * 100:.3f}%\")"
      ],
      "metadata": {
        "id": "QOz6iyLn5CII"
      },
      "execution_count": null,
      "outputs": []
    },
    {
      "cell_type": "markdown",
      "source": [
        "Visualization of the model's accuracy at the end of training:"
      ],
      "metadata": {
        "id": "5EKl-pfNTsgm"
      }
    },
    {
      "cell_type": "code",
      "source": [
        "plot_gallery(final_images, final_preds, 28, 28)"
      ],
      "metadata": {
        "id": "jtLVABuQVujn"
      },
      "execution_count": null,
      "outputs": []
    },
    {
      "cell_type": "markdown",
      "source": [
        "#Test the model"
      ],
      "metadata": {
        "id": "U-pMKQCoREsG"
      }
    },
    {
      "cell_type": "markdown",
      "source": [
        "First test the model on the handwritten characters. \n",
        "\n",
        "This model doesn't do very well with my numbers. I think it is a combination of my lines being thin and the model not being very accurate."
      ],
      "metadata": {
        "id": "S_q1Ih9ERrAX"
      }
    },
    {
      "cell_type": "code",
      "source": [
        "labels = []\n",
        "for num in nums:\n",
        "    testps = model(num.view(1, 784))\n",
        "    prob = list(ps.detach().numpy()[0])\n",
        "    pred = prob.index(max(prob))\n",
        "    labels.append(\"pred: \" + str(pred))\n",
        "\n",
        "plot_gallery(nums, labels, 28, 28, 1, 5)"
      ],
      "metadata": {
        "id": "W2XtHc3oVqli"
      },
      "execution_count": null,
      "outputs": []
    },
    {
      "cell_type": "markdown",
      "source": [
        "Second, test the model on transformed character to see how much variation the model can handle."
      ],
      "metadata": {
        "id": "oYpr6zouRsvm"
      }
    },
    {
      "cell_type": "code",
      "source": [
        "# Lists for visualization\n",
        "final_images = []\n",
        "final_preds = []\n",
        "\n",
        "# Rotate 10 images\n",
        "for i in range(10, 15):\n",
        "    image = f_tfm.rotate(images[i], angle=45)\n",
        "    final_images.append(image)\n",
        "\n",
        "    testps = model(image.view(1, 784))\n",
        "    prob = list(testps.detach().numpy()[0])\n",
        "    pred = prob.index(max(prob))\n",
        "    final_preds.append(\"pred: \" + str(pred))\n",
        "\n",
        "# Translate 10 images\n",
        "for i in range(5, 10):\n",
        "    image = f_tfm.affine(images[i], angle=0, translate=(-5, 0), scale=1, shear=0)\n",
        "    final_images.append(image)\n",
        "\n",
        "    testps = model(image.view(1, 784))\n",
        "    prob = list(testps.detach().numpy()[0])\n",
        "    pred = prob.index(max(prob))\n",
        "    final_preds.append(\"pred: \" + str(pred))\n",
        "\n",
        "plot_gallery(final_images, final_preds, 28, 28)"
      ],
      "metadata": {
        "id": "58ApkvRW2xNw"
      },
      "execution_count": null,
      "outputs": []
    },
    {
      "cell_type": "markdown",
      "source": [
        "The model handles rotations much better than translations.\n",
        "\n",
        "I would say this is desirable. People can write numbers at various angles, but when we divide up numbers for classification, it isn't very hard to center the image, so they should all be in about the same spot."
      ],
      "metadata": {
        "id": "6W0TaN1d9SpL"
      }
    }
  ]
}